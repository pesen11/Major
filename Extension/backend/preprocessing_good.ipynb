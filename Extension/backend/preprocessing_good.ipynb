{
  "cells": [
    {
      "cell_type": "code",
      "execution_count": 4,
      "id": "6c40604d",
      "metadata": {
        "id": "6c40604d"
      },
      "outputs": [],
      "source": [
        "import numpy as np\n",
        "import pandas as pd"
      ]
    },
    {
      "cell_type": "code",
      "execution_count": 5,
      "id": "21641669",
      "metadata": {
        "id": "21641669"
      },
      "outputs": [],
      "source": [
        "sites=pd.read_csv('extractedDL.csv')"
      ]
    },
    {
      "cell_type": "code",
      "execution_count": 6,
      "id": "7c8e8d0e",
      "metadata": {
        "id": "7c8e8d0e"
      },
      "outputs": [],
      "source": [
        "sites=sites[['url','label']]"
      ]
    },
    {
      "cell_type": "code",
      "source": [
        "sites.head()"
      ],
      "metadata": {
        "colab": {
          "base_uri": "https://localhost:8080/",
          "height": 206
        },
        "id": "maqHlS1q46up",
        "outputId": "f78f0c01-e520-404a-d500-a8604f30b5e4"
      },
      "id": "maqHlS1q46up",
      "execution_count": 7,
      "outputs": [
        {
          "output_type": "execute_result",
          "data": {
            "text/html": [
              "\n",
              "  <div id=\"df-6534a5e1-2cf4-4a9d-a861-a284197ff1ba\">\n",
              "    <div class=\"colab-df-container\">\n",
              "      <div>\n",
              "<style scoped>\n",
              "    .dataframe tbody tr th:only-of-type {\n",
              "        vertical-align: middle;\n",
              "    }\n",
              "\n",
              "    .dataframe tbody tr th {\n",
              "        vertical-align: top;\n",
              "    }\n",
              "\n",
              "    .dataframe thead th {\n",
              "        text-align: right;\n",
              "    }\n",
              "</style>\n",
              "<table border=\"1\" class=\"dataframe\">\n",
              "  <thead>\n",
              "    <tr style=\"text-align: right;\">\n",
              "      <th></th>\n",
              "      <th>url</th>\n",
              "      <th>label</th>\n",
              "    </tr>\n",
              "  </thead>\n",
              "  <tbody>\n",
              "    <tr>\n",
              "      <th>0</th>\n",
              "      <td>http://www.crestonwood.com/router.php</td>\n",
              "      <td>0</td>\n",
              "    </tr>\n",
              "    <tr>\n",
              "      <th>1</th>\n",
              "      <td>http://shadetreetechnology.com/V4/validation/a...</td>\n",
              "      <td>1</td>\n",
              "    </tr>\n",
              "    <tr>\n",
              "      <th>2</th>\n",
              "      <td>https://support-appleld.com.secureupdate.duila...</td>\n",
              "      <td>1</td>\n",
              "    </tr>\n",
              "    <tr>\n",
              "      <th>3</th>\n",
              "      <td>http://rgipt.ac.in</td>\n",
              "      <td>0</td>\n",
              "    </tr>\n",
              "    <tr>\n",
              "      <th>4</th>\n",
              "      <td>http://www.iracing.com/tracks/gateway-motorspo...</td>\n",
              "      <td>0</td>\n",
              "    </tr>\n",
              "  </tbody>\n",
              "</table>\n",
              "</div>\n",
              "      <button class=\"colab-df-convert\" onclick=\"convertToInteractive('df-6534a5e1-2cf4-4a9d-a861-a284197ff1ba')\"\n",
              "              title=\"Convert this dataframe to an interactive table.\"\n",
              "              style=\"display:none;\">\n",
              "        \n",
              "  <svg xmlns=\"http://www.w3.org/2000/svg\" height=\"24px\"viewBox=\"0 0 24 24\"\n",
              "       width=\"24px\">\n",
              "    <path d=\"M0 0h24v24H0V0z\" fill=\"none\"/>\n",
              "    <path d=\"M18.56 5.44l.94 2.06.94-2.06 2.06-.94-2.06-.94-.94-2.06-.94 2.06-2.06.94zm-11 1L8.5 8.5l.94-2.06 2.06-.94-2.06-.94L8.5 2.5l-.94 2.06-2.06.94zm10 10l.94 2.06.94-2.06 2.06-.94-2.06-.94-.94-2.06-.94 2.06-2.06.94z\"/><path d=\"M17.41 7.96l-1.37-1.37c-.4-.4-.92-.59-1.43-.59-.52 0-1.04.2-1.43.59L10.3 9.45l-7.72 7.72c-.78.78-.78 2.05 0 2.83L4 21.41c.39.39.9.59 1.41.59.51 0 1.02-.2 1.41-.59l7.78-7.78 2.81-2.81c.8-.78.8-2.07 0-2.86zM5.41 20L4 18.59l7.72-7.72 1.47 1.35L5.41 20z\"/>\n",
              "  </svg>\n",
              "      </button>\n",
              "      \n",
              "  <style>\n",
              "    .colab-df-container {\n",
              "      display:flex;\n",
              "      flex-wrap:wrap;\n",
              "      gap: 12px;\n",
              "    }\n",
              "\n",
              "    .colab-df-convert {\n",
              "      background-color: #E8F0FE;\n",
              "      border: none;\n",
              "      border-radius: 50%;\n",
              "      cursor: pointer;\n",
              "      display: none;\n",
              "      fill: #1967D2;\n",
              "      height: 32px;\n",
              "      padding: 0 0 0 0;\n",
              "      width: 32px;\n",
              "    }\n",
              "\n",
              "    .colab-df-convert:hover {\n",
              "      background-color: #E2EBFA;\n",
              "      box-shadow: 0px 1px 2px rgba(60, 64, 67, 0.3), 0px 1px 3px 1px rgba(60, 64, 67, 0.15);\n",
              "      fill: #174EA6;\n",
              "    }\n",
              "\n",
              "    [theme=dark] .colab-df-convert {\n",
              "      background-color: #3B4455;\n",
              "      fill: #D2E3FC;\n",
              "    }\n",
              "\n",
              "    [theme=dark] .colab-df-convert:hover {\n",
              "      background-color: #434B5C;\n",
              "      box-shadow: 0px 1px 3px 1px rgba(0, 0, 0, 0.15);\n",
              "      filter: drop-shadow(0px 1px 2px rgba(0, 0, 0, 0.3));\n",
              "      fill: #FFFFFF;\n",
              "    }\n",
              "  </style>\n",
              "\n",
              "      <script>\n",
              "        const buttonEl =\n",
              "          document.querySelector('#df-6534a5e1-2cf4-4a9d-a861-a284197ff1ba button.colab-df-convert');\n",
              "        buttonEl.style.display =\n",
              "          google.colab.kernel.accessAllowed ? 'block' : 'none';\n",
              "\n",
              "        async function convertToInteractive(key) {\n",
              "          const element = document.querySelector('#df-6534a5e1-2cf4-4a9d-a861-a284197ff1ba');\n",
              "          const dataTable =\n",
              "            await google.colab.kernel.invokeFunction('convertToInteractive',\n",
              "                                                     [key], {});\n",
              "          if (!dataTable) return;\n",
              "\n",
              "          const docLinkHtml = 'Like what you see? Visit the ' +\n",
              "            '<a target=\"_blank\" href=https://colab.research.google.com/notebooks/data_table.ipynb>data table notebook</a>'\n",
              "            + ' to learn more about interactive tables.';\n",
              "          element.innerHTML = '';\n",
              "          dataTable['output_type'] = 'display_data';\n",
              "          await google.colab.output.renderOutput(dataTable, element);\n",
              "          const docLink = document.createElement('div');\n",
              "          docLink.innerHTML = docLinkHtml;\n",
              "          element.appendChild(docLink);\n",
              "        }\n",
              "      </script>\n",
              "    </div>\n",
              "  </div>\n",
              "  "
            ],
            "text/plain": [
              "                                                 url  label\n",
              "0              http://www.crestonwood.com/router.php      0\n",
              "1  http://shadetreetechnology.com/V4/validation/a...      1\n",
              "2  https://support-appleld.com.secureupdate.duila...      1\n",
              "3                                 http://rgipt.ac.in      0\n",
              "4  http://www.iracing.com/tracks/gateway-motorspo...      0"
            ]
          },
          "metadata": {},
          "execution_count": 7
        }
      ]
    },
    {
      "cell_type": "code",
      "execution_count": 8,
      "id": "c6751ca7",
      "metadata": {
        "id": "c6751ca7"
      },
      "outputs": [],
      "source": [
        "import ipaddress\n",
        "import re"
      ]
    },
    {
      "cell_type": "markdown",
      "id": "77015e0d",
      "metadata": {
        "id": "77015e0d"
      },
      "source": [
        "###  1. Ip in url"
      ]
    },
    {
      "cell_type": "code",
      "execution_count": 9,
      "id": "2944706e",
      "metadata": {
        "id": "2944706e"
      },
      "outputs": [],
      "source": [
        "def havingIP(url):\n",
        "    try:\n",
        "        ipaddress.ip_address(url)\n",
        "        ip=1\n",
        "    except:\n",
        "        ip=0\n",
        "    return ip"
      ]
    },
    {
      "cell_type": "markdown",
      "id": "fb4c3010",
      "metadata": {
        "id": "fb4c3010"
      },
      "source": [
        "###  2.Length of URL"
      ]
    },
    {
      "cell_type": "code",
      "execution_count": 10,
      "id": "8d7499b9",
      "metadata": {
        "id": "8d7499b9"
      },
      "outputs": [],
      "source": [
        "def getLength(url):\n",
        "    if len(url)<400:\n",
        "        length=0\n",
        "    else:\n",
        "        length=1\n",
        "    return length\n",
        "     \n"
      ]
    },
    {
      "cell_type": "markdown",
      "id": "327ccbb6",
      "metadata": {
        "id": "327ccbb6"
      },
      "source": [
        "### 3.URL shortening"
      ]
    },
    {
      "cell_type": "code",
      "execution_count": 11,
      "id": "f7237d7c",
      "metadata": {
        "id": "f7237d7c"
      },
      "outputs": [],
      "source": [
        "shortening_services = r\"bit\\.ly|goo\\.gl|shorte\\.st|go2l\\.ink|x\\.co|ow\\.ly|t\\.co|tinyurl|tr\\.im|is\\.gd|cli\\.gs|\" \\\n",
        "                      r\"yfrog\\.com|migre\\.me|ff\\.im|tiny\\.cc|url4\\.eu|twit\\.ac|su\\.pr|twurl\\.nl|snipurl\\.com|\" \\\n",
        "                      r\"short\\.to|BudURL\\.com|ping\\.fm|post\\.ly|Just\\.as|bkite\\.com|snipr\\.com|fic\\.kr|loopt\\.us|\" \\\n",
        "                      r\"doiop\\.com|short\\.ie|kl\\.am|wp\\.me|rubyurl\\.com|om\\.ly|to\\.ly|bit\\.do|t\\.co|lnkd\\.in|db\\.tt|\" \\\n",
        "                      r\"qr\\.ae|adf\\.ly|goo\\.gl|bitly\\.com|cur\\.lv|tinyurl\\.com|ow\\.ly|bit\\.ly|ity\\.im|q\\.gs|is\\.gd|\" \\\n",
        "                      r\"po\\.st|bc\\.vc|twitthis\\.com|u\\.to|j\\.mp|buzurl\\.com|cutt\\.us|u\\.bb|yourls\\.org|x\\.co|\" \\\n",
        "                      r\"prettylinkpro\\.com|scrnch\\.me|filoops\\.info|vzturl\\.com|qr\\.net|1url\\.com|tweez\\.me|v\\.gd|\" \\\n",
        "                      r\"tr\\.im|link\\.zip\\.net\"\n",
        "\n",
        "def tinyURL(url):\n",
        "    match=re.search(shortening_services,url)\n",
        "    if match:\n",
        "        return 1\n",
        "    else:\n",
        "        return 0"
      ]
    },
    {
      "cell_type": "markdown",
      "id": "47e1df78",
      "metadata": {
        "id": "47e1df78"
      },
      "source": [
        "###  4. @ symbol in URL"
      ]
    },
    {
      "cell_type": "code",
      "execution_count": 12,
      "id": "599cfb7f",
      "metadata": {
        "id": "599cfb7f"
      },
      "outputs": [],
      "source": [
        "def haveAtSign(url):\n",
        "    if '@' in url:\n",
        "        atrate=1\n",
        "    else:\n",
        "        atrate=0\n",
        "    return atrate"
      ]
    },
    {
      "cell_type": "markdown",
      "id": "fa4bb28f",
      "metadata": {
        "id": "fa4bb28f"
      },
      "source": [
        "### 5. Redirection of '//' in URL"
      ]
    },
    {
      "cell_type": "code",
      "execution_count": 13,
      "id": "860d15cd",
      "metadata": {
        "id": "860d15cd"
      },
      "outputs": [],
      "source": [
        "def redirection(url):\n",
        "    pos = url.rfind('//')\n",
        "    if pos > 6:\n",
        "        if pos >7:\n",
        "            return 1\n",
        "        else:\n",
        "            return 0\n",
        "    else:\n",
        "        return 0\n",
        "  \n"
      ]
    },
    {
      "cell_type": "markdown",
      "id": "129c0000",
      "metadata": {
        "id": "129c0000"
      },
      "source": [
        "### 6.'-' in prefix or suffix"
      ]
    },
    {
      "cell_type": "code",
      "execution_count": 14,
      "id": "b2640647",
      "metadata": {
        "id": "b2640647"
      },
      "outputs": [],
      "source": [
        "from urllib.parse import urlparse"
      ]
    },
    {
      "cell_type": "code",
      "execution_count": 15,
      "id": "7d88d306",
      "metadata": {
        "id": "7d88d306"
      },
      "outputs": [],
      "source": [
        "def prefixSuffix(url):\n",
        "    if '-' in urlparse(url).netloc:\n",
        "        return 1            \n",
        "    else:\n",
        "        return 0            "
      ]
    },
    {
      "cell_type": "markdown",
      "id": "cb62f7d0",
      "metadata": {
        "id": "cb62f7d0"
      },
      "source": [
        "### 7. Number of subdomains"
      ]
    },
    {
      "cell_type": "code",
      "execution_count": 16,
      "id": "e75d6e58",
      "metadata": {
        "id": "e75d6e58"
      },
      "outputs": [],
      "source": [
        "def getSubdomains(url):\n",
        "    if url.count('.')>3:\n",
        "        return 1\n",
        "    else:\n",
        "        return 0\n",
        "    "
      ]
    },
    {
      "cell_type": "markdown",
      "id": "64811d94",
      "metadata": {
        "id": "64811d94"
      },
      "source": [
        "### 8.https in domain name"
      ]
    },
    {
      "cell_type": "code",
      "execution_count": 17,
      "id": "6ffb2717",
      "metadata": {
        "id": "6ffb2717"
      },
      "outputs": [],
      "source": [
        "def httpsInDomain(url):\n",
        "    if 'https' in urlparse(url).netloc:\n",
        "        return 1\n",
        "    else:\n",
        "        return 0"
      ]
    },
    {
      "cell_type": "markdown",
      "id": "f35c7ebf",
      "metadata": {
        "id": "f35c7ebf"
      },
      "source": [
        "### 9. Remaining domain period"
      ]
    },
    {
      "cell_type": "code",
      "source": [
        "!pip install whois"
      ],
      "metadata": {
        "colab": {
          "base_uri": "https://localhost:8080/"
        },
        "id": "l6j4hhqS560h",
        "outputId": "d34cb91c-1f82-411d-d5c4-feaf00153276"
      },
      "id": "l6j4hhqS560h",
      "execution_count": 18,
      "outputs": [
        {
          "output_type": "stream",
          "name": "stdout",
          "text": [
            "Requirement already satisfied: whois in /usr/local/lib/python3.7/dist-packages (0.9.13)\n"
          ]
        }
      ]
    },
    {
      "cell_type": "code",
      "execution_count": 19,
      "id": "e63a58a2",
      "metadata": {
        "id": "e63a58a2"
      },
      "outputs": [],
      "source": [
        "import whois\n",
        "from datetime import datetime\n",
        "import time"
      ]
    },
    {
      "cell_type": "code",
      "execution_count": 20,
      "id": "ea2d1830",
      "metadata": {
        "id": "ea2d1830"
      },
      "outputs": [],
      "source": [
        "# def domain_registration_length(domain):\n",
        "#     if domain==\"\":\n",
        "#         return 1\n",
        "#     else:\n",
        "\n",
        "#         if isinstance(domain.expiration_date, list):\n",
        "#             expiration_date = domain.expiration_date[0]\n",
        "#         else:\n",
        "            \n",
        "#             expiration_date = domain.expiration_date\n",
        "#             expiration_date = str(expiration_date).split(' ')[0]\n",
        "#             expiration_date = datetime.strptime(str(expiration_date), '%Y-%m-%d')\n",
        "#             today = time.strftime('%Y-%m-%d')\n",
        "#             today = datetime.strptime(today, '%Y-%m-%d')\n",
        "#             registration_length = abs((expiration_date - today).days)\n",
        "\n",
        "#             return round(registration_length/365,2)"
      ]
    },
    {
      "cell_type": "markdown",
      "id": "56cd1914",
      "metadata": {
        "id": "56cd1914"
      },
      "source": [
        "### 10. Favicon"
      ]
    },
    {
      "cell_type": "code",
      "execution_count": 21,
      "id": "11bf209d",
      "metadata": {
        "id": "11bf209d"
      },
      "outputs": [],
      "source": [
        "from bs4 import BeautifulSoup\n",
        "import requests"
      ]
    },
    {
      "cell_type": "code",
      "execution_count": 22,
      "id": "4fbb829c",
      "metadata": {
        "id": "4fbb829c"
      },
      "outputs": [],
      "source": [
        "def favicon(soup, domain):\n",
        "    if soup==\"\" or domain==\"\" or type(domain)==None:\n",
        "        return 1\n",
        "    else:\n",
        "\n",
        "        if isinstance(domain.domain_name, list):\n",
        "            domain = domain.domain_name[0].lower()\n",
        "        else:\n",
        "            try:\n",
        "                domain = domain.domain_name.lower()\n",
        "            except:\n",
        "                return 1\n",
        "\n",
        "        for head in soup.find_all('head'):\n",
        "            for head.link in soup.find_all('link', href=True):\n",
        "                dots = [x.start(0) for x in re.finditer('\\.', head.link['href'])]\n",
        "                if domain in head.link['href']:\n",
        "                    return 0\n",
        "                else:\n",
        "                    return 1\n",
        "    return 0"
      ]
    },
    {
      "cell_type": "markdown",
      "id": "5473dc67",
      "metadata": {
        "id": "5473dc67"
      },
      "source": [
        "### 11. HTTPS in URL"
      ]
    },
    {
      "cell_type": "code",
      "execution_count": 23,
      "id": "3f0ff7bd",
      "metadata": {
        "id": "3f0ff7bd"
      },
      "outputs": [],
      "source": [
        "def hasHTTPS(url):\n",
        "    if 'https'in url[:5]:\n",
        "        return 1\n",
        "    else:\n",
        "        return 0\n",
        "\n"
      ]
    },
    {
      "cell_type": "markdown",
      "id": "c7559301",
      "metadata": {
        "id": "c7559301"
      },
      "source": [
        "###  12. Request URL"
      ]
    },
    {
      "cell_type": "code",
      "execution_count": 24,
      "id": "bef67d41",
      "metadata": {
        "id": "bef67d41"
      },
      "outputs": [],
      "source": [
        "def request_url(soup, domain):\n",
        "    i = 0\n",
        "    success = 0\n",
        "    if soup==\"\" or domain==\"\" or type(domain)==None:\n",
        "        return 1\n",
        "    else:\n",
        "\n",
        "        if isinstance(domain.domain_name, list):\n",
        "            domain = domain.domain_name[0].lower()\n",
        "        else:\n",
        "            try:\n",
        "                domain = domain.domain_name.lower()\n",
        "            except:\n",
        "                return 1\n",
        "\n",
        "        for img in soup.find_all('img', src=True):\n",
        "            dots = [x.start(0) for x in re.finditer('\\.', img['src'])]\n",
        "            if domain not in img['src']:\n",
        "                success = success + 1\n",
        "            i = i + 1\n",
        "\n",
        "        for audio in soup.find_all('audio', src=True):\n",
        "            dots = [x.start(0) for x in re.finditer('\\.', audio['src'])]\n",
        "            if domain not in audio['src']:\n",
        "                success = success + 1\n",
        "            i = i + 1\n",
        "\n",
        "        for embed in soup.find_all('embed', src=True):\n",
        "            dots = [x.start(0) for x in re.finditer('\\.', embed['src'])]\n",
        "            if domain not in embed['src']:\n",
        "                success = success + 1\n",
        "            i = i + 1\n",
        "\n",
        "        for i_frame in soup.find_all('i_frame', src=True):\n",
        "            dots = [x.start(0) for x in re.finditer('\\.', i_frame['src'])]\n",
        "            if domain not in i_frame['src']:\n",
        "                success = success + 1\n",
        "            i = i + 1\n",
        "\n",
        "        try:\n",
        "            percentage = success / float(i)\n",
        "            return round(percentage)\n",
        "        except:\n",
        "            return 0\n"
      ]
    },
    {
      "cell_type": "markdown",
      "id": "32265d5b",
      "metadata": {
        "id": "32265d5b"
      },
      "source": [
        "### 13. URL of anchor"
      ]
    },
    {
      "cell_type": "code",
      "execution_count": 25,
      "id": "7dbbd22e",
      "metadata": {
        "id": "7dbbd22e"
      },
      "outputs": [],
      "source": [
        "def url_of_anchor(soup, domain):\n",
        "    i = 0\n",
        "    unsafe = 0\n",
        "    if soup==\"\" or domain==\"\" or type(domain)==None:\n",
        "        return 1\n",
        "    else:\n",
        "\n",
        "        if isinstance(domain.domain_name, list):\n",
        "            domain = domain.domain_name[0].lower()\n",
        "        else:\n",
        "            try:\n",
        "                domain = domain.domain_name.lower()\n",
        "            except:\n",
        "                return 1\n",
        "            \n",
        "\n",
        "        for a in soup.find_all('a', href=True):\n",
        "            if \"#\" in a['href'] or \"javascript\" in a['href'].lower() or \"mailto\" in a['href'].lower() or not (\n",
        "                    domain in a['href']):\n",
        "                unsafe = unsafe + 1\n",
        "            i = i + 1\n",
        "        try:\n",
        "            percentage = unsafe / float(i)\n",
        "            return round(percentage)\n",
        "        except:\n",
        "            return 0"
      ]
    },
    {
      "cell_type": "markdown",
      "id": "864b05f4",
      "metadata": {
        "id": "864b05f4"
      },
      "source": [
        "###  14.Links in tags"
      ]
    },
    {
      "cell_type": "code",
      "execution_count": 26,
      "id": "18c9baae",
      "metadata": {
        "id": "18c9baae"
      },
      "outputs": [],
      "source": [
        "def links_in_tags(soup, domain):\n",
        "    \n",
        "    i=0\n",
        "    success =0\n",
        "    if soup==\"\" or domain==\"\" or type(domain)==None:\n",
        "        return 1\n",
        "    else:\n",
        "\n",
        "        if isinstance(domain.domain_name, list):\n",
        "            domain = domain.domain_name[0].lower()\n",
        "        else:\n",
        "            try:\n",
        "                domain = domain.domain_name.lower()\n",
        "            except:\n",
        "                return 1\n",
        "\n",
        "        for link in soup.find_all('link', href= True):\n",
        "\n",
        "            dots=[x.start(0) for x in re.finditer('\\.',link['href'])]\n",
        "            if domain not in link['href']:\n",
        "\n",
        "                success = success + 1\n",
        "            i=i+1\n",
        "\n",
        "        for script in soup.find_all('script', src= True):\n",
        "\n",
        "            dots=[x.start(0) for x in re.finditer('\\.',script['src'])]\n",
        "            if domain not in script['src']:\n",
        "                success = success + 1\n",
        "            i=i+1\n",
        "        try:\n",
        "            percentage = success / float(i)\n",
        "            return round(percentage)\n",
        "        except:\n",
        "            return 0"
      ]
    },
    {
      "cell_type": "markdown",
      "id": "7d2d20f6",
      "metadata": {
        "id": "7d2d20f6"
      },
      "source": [
        "### 15.Server Form handler"
      ]
    },
    {
      "cell_type": "code",
      "execution_count": 27,
      "id": "3a3e7d64",
      "metadata": {
        "id": "3a3e7d64"
      },
      "outputs": [],
      "source": [
        "def sfh(soup, domain):\n",
        "    if soup==\"\" or domain==\"\" or type(domain)==None:\n",
        "        return 1\n",
        "    else:\n",
        "\n",
        "        if isinstance(domain.domain_name, list):\n",
        "            domain = domain.domain_name[0].lower()\n",
        "        else:\n",
        "            try:\n",
        "                domain = domain.domain_name.lower()\n",
        "            except:\n",
        "                return 1\n",
        "\n",
        "        for form in soup.find_all('form', action= True):\n",
        "\n",
        "            if form['action'] ==\"\" or form['action'] == \"about:blank\" :\n",
        "                return 1\n",
        "            elif domain not in form['action']:\n",
        "                return 1\n",
        "            else:\n",
        "                return 0\n",
        "    return 0"
      ]
    },
    {
      "cell_type": "markdown",
      "id": "e0d1628a",
      "metadata": {
        "id": "e0d1628a"
      },
      "source": [
        "### 16.Submitting to email "
      ]
    },
    {
      "cell_type": "code",
      "execution_count": 28,
      "id": "9195e36a",
      "metadata": {
        "id": "9195e36a"
      },
      "outputs": [],
      "source": [
        "def submitting_to_email(soup):\n",
        "    if soup==\"\":\n",
        "        return 1\n",
        "    for form in soup.find_all('form', action= True):\n",
        "        if \"mailto:\" in form['action']:\n",
        "            return 1\n",
        "        else:\n",
        "            return 0\n",
        "    return 0"
      ]
    },
    {
      "cell_type": "markdown",
      "id": "b8846373",
      "metadata": {
        "id": "b8846373"
      },
      "source": [
        "### 17. Iframe redirection"
      ]
    },
    {
      "cell_type": "code",
      "execution_count": 29,
      "id": "9411ed3b",
      "metadata": {
        "id": "9411ed3b"
      },
      "outputs": [],
      "source": [
        "def iframe(soup):\n",
        "    if soup==\"\":\n",
        "        return 1\n",
        "    else:\n",
        "        for iframe in soup.find_all('iframe', width=True, height=True, frameBorder=True):\n",
        "            if iframe['width']==\"0\" and iframe['height']==\"0\" and iframe['frameBorder']==\"0\":\n",
        "                return 1\n",
        "            else:\n",
        "                return 0\n",
        "    return 0"
      ]
    },
    {
      "cell_type": "code",
      "execution_count": 30,
      "id": "01923f50",
      "metadata": {
        "id": "01923f50"
      },
      "outputs": [],
      "source": [
        "def featureExtraction(url):  \n",
        "    if \"http://\" not in url and \"https://\" not in url:    \n",
        "        url = \"https://\"+url\n",
        "    try:\n",
        "        page_response= requests.get(url, timeout=2)\n",
        "        soup = BeautifulSoup(page_response.content, 'html.parser')\n",
        "    except:\n",
        "        soup=\"\"\n",
        "    \n",
        "    \n",
        "    \n",
        "    features = []\n",
        "    features.append(havingIP(url))\n",
        "    features.append(haveAtSign(url))\n",
        "    features.append(getLength(url))\n",
        "    features.append(redirection(url))\n",
        "    features.append(httpsInDomain(url))\n",
        "    features.append(hasHTTPS(url))\n",
        "    features.append(tinyURL(url))\n",
        "    features.append(prefixSuffix(url))\n",
        "    try:\n",
        "        domain=whois.whois(url)\n",
        "    except:\n",
        "        domain=\"\"\n",
        "    \n",
        "    \n",
        "#     features.append(domain_registration_length(domain))\n",
        "    features.append(favicon(soup,domain))\n",
        "    features.append(request_url(soup,domain))\n",
        "    features.append(url_of_anchor(soup,domain))\n",
        "    features.append(links_in_tags(soup,domain))\n",
        "    features.append(sfh(soup,domain))\n",
        "    features.append(submitting_to_email(soup))\n",
        "    features.append(iframe(soup))\n",
        "    \n",
        "    return features\n",
        "    \n",
        "  "
      ]
    },
    {
      "cell_type": "code",
      "execution_count": 31,
      "id": "8eb16165",
      "metadata": {
        "colab": {
          "base_uri": "https://localhost:8080/"
        },
        "id": "8eb16165",
        "outputId": "7e7dd7cc-8b95-4b29-850e-2e442eda8c2f"
      },
      "outputs": [
        {
          "output_type": "execute_result",
          "data": {
            "text/plain": [
              "(11430, 2)"
            ]
          },
          "metadata": {},
          "execution_count": 31
        }
      ],
      "source": [
        "sites.shape"
      ]
    },
    {
      "cell_type": "code",
      "execution_count": 32,
      "id": "6e9f7a96",
      "metadata": {
        "colab": {
          "base_uri": "https://localhost:8080/"
        },
        "id": "6e9f7a96",
        "outputId": "1c6f0531-bd55-49a6-a3cf-1a45dcec579e"
      },
      "outputs": [
        {
          "output_type": "stream",
          "name": "stderr",
          "text": [
            "Some characters could not be decoded, and were replaced with REPLACEMENT CHARACTER.\n",
            "Some characters could not be decoded, and were replaced with REPLACEMENT CHARACTER.\n",
            "Some characters could not be decoded, and were replaced with REPLACEMENT CHARACTER.\n",
            "Some characters could not be decoded, and were replaced with REPLACEMENT CHARACTER.\n",
            "Some characters could not be decoded, and were replaced with REPLACEMENT CHARACTER.\n",
            "Some characters could not be decoded, and were replaced with REPLACEMENT CHARACTER.\n",
            "Some characters could not be decoded, and were replaced with REPLACEMENT CHARACTER.\n",
            "Some characters could not be decoded, and were replaced with REPLACEMENT CHARACTER.\n",
            "Some characters could not be decoded, and were replaced with REPLACEMENT CHARACTER.\n",
            "Some characters could not be decoded, and were replaced with REPLACEMENT CHARACTER.\n",
            "Some characters could not be decoded, and were replaced with REPLACEMENT CHARACTER.\n",
            "Some characters could not be decoded, and were replaced with REPLACEMENT CHARACTER.\n",
            "Some characters could not be decoded, and were replaced with REPLACEMENT CHARACTER.\n",
            "Some characters could not be decoded, and were replaced with REPLACEMENT CHARACTER.\n",
            "Some characters could not be decoded, and were replaced with REPLACEMENT CHARACTER.\n",
            "Some characters could not be decoded, and were replaced with REPLACEMENT CHARACTER.\n",
            "Some characters could not be decoded, and were replaced with REPLACEMENT CHARACTER.\n",
            "Some characters could not be decoded, and were replaced with REPLACEMENT CHARACTER.\n",
            "Some characters could not be decoded, and were replaced with REPLACEMENT CHARACTER.\n",
            "Some characters could not be decoded, and were replaced with REPLACEMENT CHARACTER.\n",
            "Some characters could not be decoded, and were replaced with REPLACEMENT CHARACTER.\n",
            "Some characters could not be decoded, and were replaced with REPLACEMENT CHARACTER.\n",
            "Some characters could not be decoded, and were replaced with REPLACEMENT CHARACTER.\n",
            "Some characters could not be decoded, and were replaced with REPLACEMENT CHARACTER.\n",
            "Some characters could not be decoded, and were replaced with REPLACEMENT CHARACTER.\n",
            "Some characters could not be decoded, and were replaced with REPLACEMENT CHARACTER.\n",
            "Some characters could not be decoded, and were replaced with REPLACEMENT CHARACTER.\n",
            "Some characters could not be decoded, and were replaced with REPLACEMENT CHARACTER.\n",
            "Some characters could not be decoded, and were replaced with REPLACEMENT CHARACTER.\n",
            "Some characters could not be decoded, and were replaced with REPLACEMENT CHARACTER.\n",
            "Some characters could not be decoded, and were replaced with REPLACEMENT CHARACTER.\n",
            "Some characters could not be decoded, and were replaced with REPLACEMENT CHARACTER.\n",
            "Some characters could not be decoded, and were replaced with REPLACEMENT CHARACTER.\n",
            "Some characters could not be decoded, and were replaced with REPLACEMENT CHARACTER.\n",
            "Some characters could not be decoded, and were replaced with REPLACEMENT CHARACTER.\n",
            "Some characters could not be decoded, and were replaced with REPLACEMENT CHARACTER.\n",
            "Some characters could not be decoded, and were replaced with REPLACEMENT CHARACTER.\n",
            "Some characters could not be decoded, and were replaced with REPLACEMENT CHARACTER.\n",
            "Some characters could not be decoded, and were replaced with REPLACEMENT CHARACTER.\n",
            "Some characters could not be decoded, and were replaced with REPLACEMENT CHARACTER.\n",
            "Some characters could not be decoded, and were replaced with REPLACEMENT CHARACTER.\n",
            "Some characters could not be decoded, and were replaced with REPLACEMENT CHARACTER.\n",
            "Some characters could not be decoded, and were replaced with REPLACEMENT CHARACTER.\n",
            "Some characters could not be decoded, and were replaced with REPLACEMENT CHARACTER.\n",
            "Some characters could not be decoded, and were replaced with REPLACEMENT CHARACTER.\n",
            "Some characters could not be decoded, and were replaced with REPLACEMENT CHARACTER.\n",
            "Some characters could not be decoded, and were replaced with REPLACEMENT CHARACTER.\n",
            "Some characters could not be decoded, and were replaced with REPLACEMENT CHARACTER.\n",
            "Some characters could not be decoded, and were replaced with REPLACEMENT CHARACTER.\n",
            "Some characters could not be decoded, and were replaced with REPLACEMENT CHARACTER.\n",
            "Some characters could not be decoded, and were replaced with REPLACEMENT CHARACTER.\n",
            "Some characters could not be decoded, and were replaced with REPLACEMENT CHARACTER.\n",
            "Some characters could not be decoded, and were replaced with REPLACEMENT CHARACTER.\n",
            "Some characters could not be decoded, and were replaced with REPLACEMENT CHARACTER.\n",
            "Some characters could not be decoded, and were replaced with REPLACEMENT CHARACTER.\n",
            "Some characters could not be decoded, and were replaced with REPLACEMENT CHARACTER.\n",
            "Some characters could not be decoded, and were replaced with REPLACEMENT CHARACTER.\n",
            "Some characters could not be decoded, and were replaced with REPLACEMENT CHARACTER.\n",
            "Some characters could not be decoded, and were replaced with REPLACEMENT CHARACTER.\n",
            "Some characters could not be decoded, and were replaced with REPLACEMENT CHARACTER.\n",
            "Some characters could not be decoded, and were replaced with REPLACEMENT CHARACTER.\n",
            "Some characters could not be decoded, and were replaced with REPLACEMENT CHARACTER.\n",
            "Some characters could not be decoded, and were replaced with REPLACEMENT CHARACTER.\n",
            "Some characters could not be decoded, and were replaced with REPLACEMENT CHARACTER.\n",
            "Some characters could not be decoded, and were replaced with REPLACEMENT CHARACTER.\n",
            "Some characters could not be decoded, and were replaced with REPLACEMENT CHARACTER.\n",
            "Some characters could not be decoded, and were replaced with REPLACEMENT CHARACTER.\n",
            "Some characters could not be decoded, and were replaced with REPLACEMENT CHARACTER.\n",
            "Some characters could not be decoded, and were replaced with REPLACEMENT CHARACTER.\n",
            "Some characters could not be decoded, and were replaced with REPLACEMENT CHARACTER.\n",
            "Some characters could not be decoded, and were replaced with REPLACEMENT CHARACTER.\n",
            "Some characters could not be decoded, and were replaced with REPLACEMENT CHARACTER.\n",
            "Some characters could not be decoded, and were replaced with REPLACEMENT CHARACTER.\n",
            "Some characters could not be decoded, and were replaced with REPLACEMENT CHARACTER.\n",
            "Some characters could not be decoded, and were replaced with REPLACEMENT CHARACTER.\n",
            "Some characters could not be decoded, and were replaced with REPLACEMENT CHARACTER.\n",
            "Some characters could not be decoded, and were replaced with REPLACEMENT CHARACTER.\n",
            "Some characters could not be decoded, and were replaced with REPLACEMENT CHARACTER.\n",
            "Some characters could not be decoded, and were replaced with REPLACEMENT CHARACTER.\n",
            "Some characters could not be decoded, and were replaced with REPLACEMENT CHARACTER.\n",
            "Some characters could not be decoded, and were replaced with REPLACEMENT CHARACTER.\n",
            "Some characters could not be decoded, and were replaced with REPLACEMENT CHARACTER.\n",
            "Some characters could not be decoded, and were replaced with REPLACEMENT CHARACTER.\n",
            "Some characters could not be decoded, and were replaced with REPLACEMENT CHARACTER.\n",
            "Some characters could not be decoded, and were replaced with REPLACEMENT CHARACTER.\n",
            "Some characters could not be decoded, and were replaced with REPLACEMENT CHARACTER.\n",
            "Some characters could not be decoded, and were replaced with REPLACEMENT CHARACTER.\n",
            "Some characters could not be decoded, and were replaced with REPLACEMENT CHARACTER.\n",
            "Some characters could not be decoded, and were replaced with REPLACEMENT CHARACTER.\n",
            "Some characters could not be decoded, and were replaced with REPLACEMENT CHARACTER.\n",
            "Some characters could not be decoded, and were replaced with REPLACEMENT CHARACTER.\n",
            "Some characters could not be decoded, and were replaced with REPLACEMENT CHARACTER.\n",
            "Some characters could not be decoded, and were replaced with REPLACEMENT CHARACTER.\n",
            "Some characters could not be decoded, and were replaced with REPLACEMENT CHARACTER.\n",
            "Some characters could not be decoded, and were replaced with REPLACEMENT CHARACTER.\n",
            "Some characters could not be decoded, and were replaced with REPLACEMENT CHARACTER.\n",
            "Some characters could not be decoded, and were replaced with REPLACEMENT CHARACTER.\n",
            "Some characters could not be decoded, and were replaced with REPLACEMENT CHARACTER.\n",
            "Some characters could not be decoded, and were replaced with REPLACEMENT CHARACTER.\n",
            "Some characters could not be decoded, and were replaced with REPLACEMENT CHARACTER.\n",
            "Some characters could not be decoded, and were replaced with REPLACEMENT CHARACTER.\n",
            "Some characters could not be decoded, and were replaced with REPLACEMENT CHARACTER.\n",
            "Some characters could not be decoded, and were replaced with REPLACEMENT CHARACTER.\n",
            "Some characters could not be decoded, and were replaced with REPLACEMENT CHARACTER.\n",
            "Some characters could not be decoded, and were replaced with REPLACEMENT CHARACTER.\n",
            "Some characters could not be decoded, and were replaced with REPLACEMENT CHARACTER.\n",
            "Some characters could not be decoded, and were replaced with REPLACEMENT CHARACTER.\n",
            "Some characters could not be decoded, and were replaced with REPLACEMENT CHARACTER.\n",
            "Some characters could not be decoded, and were replaced with REPLACEMENT CHARACTER.\n",
            "Some characters could not be decoded, and were replaced with REPLACEMENT CHARACTER.\n",
            "Some characters could not be decoded, and were replaced with REPLACEMENT CHARACTER.\n",
            "Some characters could not be decoded, and were replaced with REPLACEMENT CHARACTER.\n",
            "Some characters could not be decoded, and were replaced with REPLACEMENT CHARACTER.\n",
            "Some characters could not be decoded, and were replaced with REPLACEMENT CHARACTER.\n",
            "Some characters could not be decoded, and were replaced with REPLACEMENT CHARACTER.\n",
            "Some characters could not be decoded, and were replaced with REPLACEMENT CHARACTER.\n",
            "Some characters could not be decoded, and were replaced with REPLACEMENT CHARACTER.\n",
            "Some characters could not be decoded, and were replaced with REPLACEMENT CHARACTER.\n",
            "Some characters could not be decoded, and were replaced with REPLACEMENT CHARACTER.\n",
            "Some characters could not be decoded, and were replaced with REPLACEMENT CHARACTER.\n",
            "Some characters could not be decoded, and were replaced with REPLACEMENT CHARACTER.\n",
            "Some characters could not be decoded, and were replaced with REPLACEMENT CHARACTER.\n",
            "Some characters could not be decoded, and were replaced with REPLACEMENT CHARACTER.\n",
            "Some characters could not be decoded, and were replaced with REPLACEMENT CHARACTER.\n",
            "Some characters could not be decoded, and were replaced with REPLACEMENT CHARACTER.\n",
            "Some characters could not be decoded, and were replaced with REPLACEMENT CHARACTER.\n",
            "Some characters could not be decoded, and were replaced with REPLACEMENT CHARACTER.\n",
            "Some characters could not be decoded, and were replaced with REPLACEMENT CHARACTER.\n",
            "Some characters could not be decoded, and were replaced with REPLACEMENT CHARACTER.\n",
            "Some characters could not be decoded, and were replaced with REPLACEMENT CHARACTER.\n",
            "Some characters could not be decoded, and were replaced with REPLACEMENT CHARACTER.\n",
            "Some characters could not be decoded, and were replaced with REPLACEMENT CHARACTER.\n",
            "Some characters could not be decoded, and were replaced with REPLACEMENT CHARACTER.\n",
            "Some characters could not be decoded, and were replaced with REPLACEMENT CHARACTER.\n",
            "Some characters could not be decoded, and were replaced with REPLACEMENT CHARACTER.\n",
            "Some characters could not be decoded, and were replaced with REPLACEMENT CHARACTER.\n",
            "Some characters could not be decoded, and were replaced with REPLACEMENT CHARACTER.\n",
            "Some characters could not be decoded, and were replaced with REPLACEMENT CHARACTER.\n",
            "Some characters could not be decoded, and were replaced with REPLACEMENT CHARACTER.\n",
            "Some characters could not be decoded, and were replaced with REPLACEMENT CHARACTER.\n",
            "Some characters could not be decoded, and were replaced with REPLACEMENT CHARACTER.\n",
            "Some characters could not be decoded, and were replaced with REPLACEMENT CHARACTER.\n",
            "Some characters could not be decoded, and were replaced with REPLACEMENT CHARACTER.\n",
            "Some characters could not be decoded, and were replaced with REPLACEMENT CHARACTER.\n",
            "Some characters could not be decoded, and were replaced with REPLACEMENT CHARACTER.\n",
            "Some characters could not be decoded, and were replaced with REPLACEMENT CHARACTER.\n",
            "Some characters could not be decoded, and were replaced with REPLACEMENT CHARACTER.\n",
            "Some characters could not be decoded, and were replaced with REPLACEMENT CHARACTER.\n",
            "Some characters could not be decoded, and were replaced with REPLACEMENT CHARACTER.\n",
            "Some characters could not be decoded, and were replaced with REPLACEMENT CHARACTER.\n",
            "Some characters could not be decoded, and were replaced with REPLACEMENT CHARACTER.\n",
            "Some characters could not be decoded, and were replaced with REPLACEMENT CHARACTER.\n",
            "Some characters could not be decoded, and were replaced with REPLACEMENT CHARACTER.\n",
            "Some characters could not be decoded, and were replaced with REPLACEMENT CHARACTER.\n",
            "Some characters could not be decoded, and were replaced with REPLACEMENT CHARACTER.\n",
            "Some characters could not be decoded, and were replaced with REPLACEMENT CHARACTER.\n",
            "Some characters could not be decoded, and were replaced with REPLACEMENT CHARACTER.\n",
            "Some characters could not be decoded, and were replaced with REPLACEMENT CHARACTER.\n",
            "Some characters could not be decoded, and were replaced with REPLACEMENT CHARACTER.\n",
            "Some characters could not be decoded, and were replaced with REPLACEMENT CHARACTER.\n",
            "Some characters could not be decoded, and were replaced with REPLACEMENT CHARACTER.\n",
            "Some characters could not be decoded, and were replaced with REPLACEMENT CHARACTER.\n",
            "Some characters could not be decoded, and were replaced with REPLACEMENT CHARACTER.\n",
            "Some characters could not be decoded, and were replaced with REPLACEMENT CHARACTER.\n",
            "Some characters could not be decoded, and were replaced with REPLACEMENT CHARACTER.\n",
            "Some characters could not be decoded, and were replaced with REPLACEMENT CHARACTER.\n",
            "Some characters could not be decoded, and were replaced with REPLACEMENT CHARACTER.\n",
            "Some characters could not be decoded, and were replaced with REPLACEMENT CHARACTER.\n",
            "Some characters could not be decoded, and were replaced with REPLACEMENT CHARACTER.\n",
            "Some characters could not be decoded, and were replaced with REPLACEMENT CHARACTER.\n",
            "Some characters could not be decoded, and were replaced with REPLACEMENT CHARACTER.\n",
            "Some characters could not be decoded, and were replaced with REPLACEMENT CHARACTER.\n",
            "Some characters could not be decoded, and were replaced with REPLACEMENT CHARACTER.\n",
            "Some characters could not be decoded, and were replaced with REPLACEMENT CHARACTER.\n",
            "Some characters could not be decoded, and were replaced with REPLACEMENT CHARACTER.\n",
            "Some characters could not be decoded, and were replaced with REPLACEMENT CHARACTER.\n",
            "Some characters could not be decoded, and were replaced with REPLACEMENT CHARACTER.\n",
            "Some characters could not be decoded, and were replaced with REPLACEMENT CHARACTER.\n",
            "Some characters could not be decoded, and were replaced with REPLACEMENT CHARACTER.\n",
            "Some characters could not be decoded, and were replaced with REPLACEMENT CHARACTER.\n",
            "Some characters could not be decoded, and were replaced with REPLACEMENT CHARACTER.\n",
            "Some characters could not be decoded, and were replaced with REPLACEMENT CHARACTER.\n",
            "Some characters could not be decoded, and were replaced with REPLACEMENT CHARACTER.\n",
            "Some characters could not be decoded, and were replaced with REPLACEMENT CHARACTER.\n",
            "Some characters could not be decoded, and were replaced with REPLACEMENT CHARACTER.\n",
            "Some characters could not be decoded, and were replaced with REPLACEMENT CHARACTER.\n",
            "Some characters could not be decoded, and were replaced with REPLACEMENT CHARACTER.\n",
            "Some characters could not be decoded, and were replaced with REPLACEMENT CHARACTER.\n",
            "Some characters could not be decoded, and were replaced with REPLACEMENT CHARACTER.\n",
            "Some characters could not be decoded, and were replaced with REPLACEMENT CHARACTER.\n",
            "Some characters could not be decoded, and were replaced with REPLACEMENT CHARACTER.\n",
            "Some characters could not be decoded, and were replaced with REPLACEMENT CHARACTER.\n",
            "Some characters could not be decoded, and were replaced with REPLACEMENT CHARACTER.\n",
            "Some characters could not be decoded, and were replaced with REPLACEMENT CHARACTER.\n",
            "Some characters could not be decoded, and were replaced with REPLACEMENT CHARACTER.\n",
            "Some characters could not be decoded, and were replaced with REPLACEMENT CHARACTER.\n"
          ]
        }
      ],
      "source": [
        "features=[]\n",
        "\n",
        "for i in range(0, 11430):\n",
        "    \n",
        "    url = sites['url'][i]\n",
        "    features.append(featureExtraction(url))"
      ]
    },
    {
      "cell_type": "code",
      "execution_count": 33,
      "id": "7084431e",
      "metadata": {
        "colab": {
          "base_uri": "https://localhost:8080/",
          "height": 270
        },
        "id": "7084431e",
        "outputId": "fb5f8b0c-02f9-49b8-be66-faef2ece75c8"
      },
      "outputs": [
        {
          "output_type": "execute_result",
          "data": {
            "text/html": [
              "\n",
              "  <div id=\"df-f86d5450-10b2-4dff-b7ba-5cde27103c17\">\n",
              "    <div class=\"colab-df-container\">\n",
              "      <div>\n",
              "<style scoped>\n",
              "    .dataframe tbody tr th:only-of-type {\n",
              "        vertical-align: middle;\n",
              "    }\n",
              "\n",
              "    .dataframe tbody tr th {\n",
              "        vertical-align: top;\n",
              "    }\n",
              "\n",
              "    .dataframe thead th {\n",
              "        text-align: right;\n",
              "    }\n",
              "</style>\n",
              "<table border=\"1\" class=\"dataframe\">\n",
              "  <thead>\n",
              "    <tr style=\"text-align: right;\">\n",
              "      <th></th>\n",
              "      <th>Have_IP</th>\n",
              "      <th>Have_At</th>\n",
              "      <th>URL_Length</th>\n",
              "      <th>Redirection</th>\n",
              "      <th>https_Domain</th>\n",
              "      <th>hasHTTP</th>\n",
              "      <th>TinyURL</th>\n",
              "      <th>Prefix/Suffix</th>\n",
              "      <th>favicon</th>\n",
              "      <th>Request_URL</th>\n",
              "      <th>URL_of_anchor</th>\n",
              "      <th>links_in_tag</th>\n",
              "      <th>SFH</th>\n",
              "      <th>to_email</th>\n",
              "      <th>iFrame</th>\n",
              "    </tr>\n",
              "  </thead>\n",
              "  <tbody>\n",
              "    <tr>\n",
              "      <th>0</th>\n",
              "      <td>0</td>\n",
              "      <td>0</td>\n",
              "      <td>0</td>\n",
              "      <td>0</td>\n",
              "      <td>0</td>\n",
              "      <td>0</td>\n",
              "      <td>0</td>\n",
              "      <td>0</td>\n",
              "      <td>1</td>\n",
              "      <td>1</td>\n",
              "      <td>1</td>\n",
              "      <td>1</td>\n",
              "      <td>1</td>\n",
              "      <td>0</td>\n",
              "      <td>0</td>\n",
              "    </tr>\n",
              "    <tr>\n",
              "      <th>1</th>\n",
              "      <td>0</td>\n",
              "      <td>0</td>\n",
              "      <td>0</td>\n",
              "      <td>0</td>\n",
              "      <td>0</td>\n",
              "      <td>0</td>\n",
              "      <td>0</td>\n",
              "      <td>0</td>\n",
              "      <td>1</td>\n",
              "      <td>1</td>\n",
              "      <td>1</td>\n",
              "      <td>1</td>\n",
              "      <td>1</td>\n",
              "      <td>0</td>\n",
              "      <td>0</td>\n",
              "    </tr>\n",
              "    <tr>\n",
              "      <th>2</th>\n",
              "      <td>0</td>\n",
              "      <td>0</td>\n",
              "      <td>0</td>\n",
              "      <td>0</td>\n",
              "      <td>0</td>\n",
              "      <td>1</td>\n",
              "      <td>0</td>\n",
              "      <td>1</td>\n",
              "      <td>1</td>\n",
              "      <td>1</td>\n",
              "      <td>1</td>\n",
              "      <td>1</td>\n",
              "      <td>1</td>\n",
              "      <td>1</td>\n",
              "      <td>1</td>\n",
              "    </tr>\n",
              "    <tr>\n",
              "      <th>3</th>\n",
              "      <td>0</td>\n",
              "      <td>0</td>\n",
              "      <td>0</td>\n",
              "      <td>0</td>\n",
              "      <td>0</td>\n",
              "      <td>0</td>\n",
              "      <td>0</td>\n",
              "      <td>0</td>\n",
              "      <td>1</td>\n",
              "      <td>1</td>\n",
              "      <td>1</td>\n",
              "      <td>1</td>\n",
              "      <td>1</td>\n",
              "      <td>1</td>\n",
              "      <td>1</td>\n",
              "    </tr>\n",
              "    <tr>\n",
              "      <th>4</th>\n",
              "      <td>0</td>\n",
              "      <td>0</td>\n",
              "      <td>0</td>\n",
              "      <td>0</td>\n",
              "      <td>0</td>\n",
              "      <td>0</td>\n",
              "      <td>0</td>\n",
              "      <td>0</td>\n",
              "      <td>1</td>\n",
              "      <td>1</td>\n",
              "      <td>1</td>\n",
              "      <td>1</td>\n",
              "      <td>1</td>\n",
              "      <td>0</td>\n",
              "      <td>0</td>\n",
              "    </tr>\n",
              "  </tbody>\n",
              "</table>\n",
              "</div>\n",
              "      <button class=\"colab-df-convert\" onclick=\"convertToInteractive('df-f86d5450-10b2-4dff-b7ba-5cde27103c17')\"\n",
              "              title=\"Convert this dataframe to an interactive table.\"\n",
              "              style=\"display:none;\">\n",
              "        \n",
              "  <svg xmlns=\"http://www.w3.org/2000/svg\" height=\"24px\"viewBox=\"0 0 24 24\"\n",
              "       width=\"24px\">\n",
              "    <path d=\"M0 0h24v24H0V0z\" fill=\"none\"/>\n",
              "    <path d=\"M18.56 5.44l.94 2.06.94-2.06 2.06-.94-2.06-.94-.94-2.06-.94 2.06-2.06.94zm-11 1L8.5 8.5l.94-2.06 2.06-.94-2.06-.94L8.5 2.5l-.94 2.06-2.06.94zm10 10l.94 2.06.94-2.06 2.06-.94-2.06-.94-.94-2.06-.94 2.06-2.06.94z\"/><path d=\"M17.41 7.96l-1.37-1.37c-.4-.4-.92-.59-1.43-.59-.52 0-1.04.2-1.43.59L10.3 9.45l-7.72 7.72c-.78.78-.78 2.05 0 2.83L4 21.41c.39.39.9.59 1.41.59.51 0 1.02-.2 1.41-.59l7.78-7.78 2.81-2.81c.8-.78.8-2.07 0-2.86zM5.41 20L4 18.59l7.72-7.72 1.47 1.35L5.41 20z\"/>\n",
              "  </svg>\n",
              "      </button>\n",
              "      \n",
              "  <style>\n",
              "    .colab-df-container {\n",
              "      display:flex;\n",
              "      flex-wrap:wrap;\n",
              "      gap: 12px;\n",
              "    }\n",
              "\n",
              "    .colab-df-convert {\n",
              "      background-color: #E8F0FE;\n",
              "      border: none;\n",
              "      border-radius: 50%;\n",
              "      cursor: pointer;\n",
              "      display: none;\n",
              "      fill: #1967D2;\n",
              "      height: 32px;\n",
              "      padding: 0 0 0 0;\n",
              "      width: 32px;\n",
              "    }\n",
              "\n",
              "    .colab-df-convert:hover {\n",
              "      background-color: #E2EBFA;\n",
              "      box-shadow: 0px 1px 2px rgba(60, 64, 67, 0.3), 0px 1px 3px 1px rgba(60, 64, 67, 0.15);\n",
              "      fill: #174EA6;\n",
              "    }\n",
              "\n",
              "    [theme=dark] .colab-df-convert {\n",
              "      background-color: #3B4455;\n",
              "      fill: #D2E3FC;\n",
              "    }\n",
              "\n",
              "    [theme=dark] .colab-df-convert:hover {\n",
              "      background-color: #434B5C;\n",
              "      box-shadow: 0px 1px 3px 1px rgba(0, 0, 0, 0.15);\n",
              "      filter: drop-shadow(0px 1px 2px rgba(0, 0, 0, 0.3));\n",
              "      fill: #FFFFFF;\n",
              "    }\n",
              "  </style>\n",
              "\n",
              "      <script>\n",
              "        const buttonEl =\n",
              "          document.querySelector('#df-f86d5450-10b2-4dff-b7ba-5cde27103c17 button.colab-df-convert');\n",
              "        buttonEl.style.display =\n",
              "          google.colab.kernel.accessAllowed ? 'block' : 'none';\n",
              "\n",
              "        async function convertToInteractive(key) {\n",
              "          const element = document.querySelector('#df-f86d5450-10b2-4dff-b7ba-5cde27103c17');\n",
              "          const dataTable =\n",
              "            await google.colab.kernel.invokeFunction('convertToInteractive',\n",
              "                                                     [key], {});\n",
              "          if (!dataTable) return;\n",
              "\n",
              "          const docLinkHtml = 'Like what you see? Visit the ' +\n",
              "            '<a target=\"_blank\" href=https://colab.research.google.com/notebooks/data_table.ipynb>data table notebook</a>'\n",
              "            + ' to learn more about interactive tables.';\n",
              "          element.innerHTML = '';\n",
              "          dataTable['output_type'] = 'display_data';\n",
              "          await google.colab.output.renderOutput(dataTable, element);\n",
              "          const docLink = document.createElement('div');\n",
              "          docLink.innerHTML = docLinkHtml;\n",
              "          element.appendChild(docLink);\n",
              "        }\n",
              "      </script>\n",
              "    </div>\n",
              "  </div>\n",
              "  "
            ],
            "text/plain": [
              "   Have_IP  Have_At  URL_Length  ...  SFH  to_email  iFrame\n",
              "0        0        0           0  ...    1         0       0\n",
              "1        0        0           0  ...    1         0       0\n",
              "2        0        0           0  ...    1         1       1\n",
              "3        0        0           0  ...    1         1       1\n",
              "4        0        0           0  ...    1         0       0\n",
              "\n",
              "[5 rows x 15 columns]"
            ]
          },
          "metadata": {},
          "execution_count": 33
        }
      ],
      "source": [
        "feature_names = ['Have_IP', 'Have_At', 'URL_Length','Redirection', \n",
        "                      'https_Domain', 'hasHTTP','TinyURL', 'Prefix/Suffix','favicon', \n",
        "                      'Request_URL', 'URL_of_anchor', 'links_in_tag','SFH','to_email','iFrame']\n",
        "\n",
        "extracted = pd.DataFrame(features, columns= feature_names)\n",
        "extracted.head()"
      ]
    },
    {
      "cell_type": "code",
      "source": [
        "df=pd.read_csv('extractedDL.csv')"
      ],
      "metadata": {
        "id": "bP8lei4OmSVQ"
      },
      "id": "bP8lei4OmSVQ",
      "execution_count": 34,
      "outputs": []
    },
    {
      "cell_type": "code",
      "source": [
        "df.head()"
      ],
      "metadata": {
        "colab": {
          "base_uri": "https://localhost:8080/",
          "height": 206
        },
        "id": "FckLk5e-mrHz",
        "outputId": "be4fb03a-cc67-4b8a-8b6f-de2189082a21"
      },
      "id": "FckLk5e-mrHz",
      "execution_count": 35,
      "outputs": [
        {
          "output_type": "execute_result",
          "data": {
            "text/html": [
              "\n",
              "  <div id=\"df-d33df01b-a33c-41eb-9e37-a35fed330f6e\">\n",
              "    <div class=\"colab-df-container\">\n",
              "      <div>\n",
              "<style scoped>\n",
              "    .dataframe tbody tr th:only-of-type {\n",
              "        vertical-align: middle;\n",
              "    }\n",
              "\n",
              "    .dataframe tbody tr th {\n",
              "        vertical-align: top;\n",
              "    }\n",
              "\n",
              "    .dataframe thead th {\n",
              "        text-align: right;\n",
              "    }\n",
              "</style>\n",
              "<table border=\"1\" class=\"dataframe\">\n",
              "  <thead>\n",
              "    <tr style=\"text-align: right;\">\n",
              "      <th></th>\n",
              "      <th>Unnamed: 0</th>\n",
              "      <th>url</th>\n",
              "      <th>status</th>\n",
              "      <th>label</th>\n",
              "      <th>deepLearning</th>\n",
              "    </tr>\n",
              "  </thead>\n",
              "  <tbody>\n",
              "    <tr>\n",
              "      <th>0</th>\n",
              "      <td>0</td>\n",
              "      <td>http://www.crestonwood.com/router.php</td>\n",
              "      <td>legitimate</td>\n",
              "      <td>0</td>\n",
              "      <td>0</td>\n",
              "    </tr>\n",
              "    <tr>\n",
              "      <th>1</th>\n",
              "      <td>1</td>\n",
              "      <td>http://shadetreetechnology.com/V4/validation/a...</td>\n",
              "      <td>phishing</td>\n",
              "      <td>1</td>\n",
              "      <td>1</td>\n",
              "    </tr>\n",
              "    <tr>\n",
              "      <th>2</th>\n",
              "      <td>2</td>\n",
              "      <td>https://support-appleld.com.secureupdate.duila...</td>\n",
              "      <td>phishing</td>\n",
              "      <td>1</td>\n",
              "      <td>1</td>\n",
              "    </tr>\n",
              "    <tr>\n",
              "      <th>3</th>\n",
              "      <td>3</td>\n",
              "      <td>http://rgipt.ac.in</td>\n",
              "      <td>legitimate</td>\n",
              "      <td>0</td>\n",
              "      <td>0</td>\n",
              "    </tr>\n",
              "    <tr>\n",
              "      <th>4</th>\n",
              "      <td>4</td>\n",
              "      <td>http://www.iracing.com/tracks/gateway-motorspo...</td>\n",
              "      <td>legitimate</td>\n",
              "      <td>0</td>\n",
              "      <td>0</td>\n",
              "    </tr>\n",
              "  </tbody>\n",
              "</table>\n",
              "</div>\n",
              "      <button class=\"colab-df-convert\" onclick=\"convertToInteractive('df-d33df01b-a33c-41eb-9e37-a35fed330f6e')\"\n",
              "              title=\"Convert this dataframe to an interactive table.\"\n",
              "              style=\"display:none;\">\n",
              "        \n",
              "  <svg xmlns=\"http://www.w3.org/2000/svg\" height=\"24px\"viewBox=\"0 0 24 24\"\n",
              "       width=\"24px\">\n",
              "    <path d=\"M0 0h24v24H0V0z\" fill=\"none\"/>\n",
              "    <path d=\"M18.56 5.44l.94 2.06.94-2.06 2.06-.94-2.06-.94-.94-2.06-.94 2.06-2.06.94zm-11 1L8.5 8.5l.94-2.06 2.06-.94-2.06-.94L8.5 2.5l-.94 2.06-2.06.94zm10 10l.94 2.06.94-2.06 2.06-.94-2.06-.94-.94-2.06-.94 2.06-2.06.94z\"/><path d=\"M17.41 7.96l-1.37-1.37c-.4-.4-.92-.59-1.43-.59-.52 0-1.04.2-1.43.59L10.3 9.45l-7.72 7.72c-.78.78-.78 2.05 0 2.83L4 21.41c.39.39.9.59 1.41.59.51 0 1.02-.2 1.41-.59l7.78-7.78 2.81-2.81c.8-.78.8-2.07 0-2.86zM5.41 20L4 18.59l7.72-7.72 1.47 1.35L5.41 20z\"/>\n",
              "  </svg>\n",
              "      </button>\n",
              "      \n",
              "  <style>\n",
              "    .colab-df-container {\n",
              "      display:flex;\n",
              "      flex-wrap:wrap;\n",
              "      gap: 12px;\n",
              "    }\n",
              "\n",
              "    .colab-df-convert {\n",
              "      background-color: #E8F0FE;\n",
              "      border: none;\n",
              "      border-radius: 50%;\n",
              "      cursor: pointer;\n",
              "      display: none;\n",
              "      fill: #1967D2;\n",
              "      height: 32px;\n",
              "      padding: 0 0 0 0;\n",
              "      width: 32px;\n",
              "    }\n",
              "\n",
              "    .colab-df-convert:hover {\n",
              "      background-color: #E2EBFA;\n",
              "      box-shadow: 0px 1px 2px rgba(60, 64, 67, 0.3), 0px 1px 3px 1px rgba(60, 64, 67, 0.15);\n",
              "      fill: #174EA6;\n",
              "    }\n",
              "\n",
              "    [theme=dark] .colab-df-convert {\n",
              "      background-color: #3B4455;\n",
              "      fill: #D2E3FC;\n",
              "    }\n",
              "\n",
              "    [theme=dark] .colab-df-convert:hover {\n",
              "      background-color: #434B5C;\n",
              "      box-shadow: 0px 1px 3px 1px rgba(0, 0, 0, 0.15);\n",
              "      filter: drop-shadow(0px 1px 2px rgba(0, 0, 0, 0.3));\n",
              "      fill: #FFFFFF;\n",
              "    }\n",
              "  </style>\n",
              "\n",
              "      <script>\n",
              "        const buttonEl =\n",
              "          document.querySelector('#df-d33df01b-a33c-41eb-9e37-a35fed330f6e button.colab-df-convert');\n",
              "        buttonEl.style.display =\n",
              "          google.colab.kernel.accessAllowed ? 'block' : 'none';\n",
              "\n",
              "        async function convertToInteractive(key) {\n",
              "          const element = document.querySelector('#df-d33df01b-a33c-41eb-9e37-a35fed330f6e');\n",
              "          const dataTable =\n",
              "            await google.colab.kernel.invokeFunction('convertToInteractive',\n",
              "                                                     [key], {});\n",
              "          if (!dataTable) return;\n",
              "\n",
              "          const docLinkHtml = 'Like what you see? Visit the ' +\n",
              "            '<a target=\"_blank\" href=https://colab.research.google.com/notebooks/data_table.ipynb>data table notebook</a>'\n",
              "            + ' to learn more about interactive tables.';\n",
              "          element.innerHTML = '';\n",
              "          dataTable['output_type'] = 'display_data';\n",
              "          await google.colab.output.renderOutput(dataTable, element);\n",
              "          const docLink = document.createElement('div');\n",
              "          docLink.innerHTML = docLinkHtml;\n",
              "          element.appendChild(docLink);\n",
              "        }\n",
              "      </script>\n",
              "    </div>\n",
              "  </div>\n",
              "  "
            ],
            "text/plain": [
              "   Unnamed: 0  ... deepLearning\n",
              "0           0  ...            0\n",
              "1           1  ...            1\n",
              "2           2  ...            1\n",
              "3           3  ...            0\n",
              "4           4  ...            0\n",
              "\n",
              "[5 rows x 5 columns]"
            ]
          },
          "metadata": {},
          "execution_count": 35
        }
      ]
    },
    {
      "cell_type": "code",
      "source": [
        "extracted['Deep_Learning']=df['deepLearning']"
      ],
      "metadata": {
        "id": "JkwIfomfms1z"
      },
      "id": "JkwIfomfms1z",
      "execution_count": 37,
      "outputs": []
    },
    {
      "cell_type": "code",
      "source": [
        "extracted['label']=df['label']"
      ],
      "metadata": {
        "id": "Ufo7hXjKm8TF"
      },
      "id": "Ufo7hXjKm8TF",
      "execution_count": 39,
      "outputs": []
    },
    {
      "cell_type": "code",
      "source": [
        "extracted.head()"
      ],
      "metadata": {
        "colab": {
          "base_uri": "https://localhost:8080/",
          "height": 270
        },
        "id": "70mWZ6Sem2TU",
        "outputId": "d8f2fa0b-3a7a-4465-feb7-1f11e7d8dd4d"
      },
      "id": "70mWZ6Sem2TU",
      "execution_count": 40,
      "outputs": [
        {
          "output_type": "execute_result",
          "data": {
            "text/html": [
              "\n",
              "  <div id=\"df-d5b8a7b4-2b71-416f-9901-c873364b9499\">\n",
              "    <div class=\"colab-df-container\">\n",
              "      <div>\n",
              "<style scoped>\n",
              "    .dataframe tbody tr th:only-of-type {\n",
              "        vertical-align: middle;\n",
              "    }\n",
              "\n",
              "    .dataframe tbody tr th {\n",
              "        vertical-align: top;\n",
              "    }\n",
              "\n",
              "    .dataframe thead th {\n",
              "        text-align: right;\n",
              "    }\n",
              "</style>\n",
              "<table border=\"1\" class=\"dataframe\">\n",
              "  <thead>\n",
              "    <tr style=\"text-align: right;\">\n",
              "      <th></th>\n",
              "      <th>Have_IP</th>\n",
              "      <th>Have_At</th>\n",
              "      <th>URL_Length</th>\n",
              "      <th>Redirection</th>\n",
              "      <th>https_Domain</th>\n",
              "      <th>hasHTTP</th>\n",
              "      <th>TinyURL</th>\n",
              "      <th>Prefix/Suffix</th>\n",
              "      <th>favicon</th>\n",
              "      <th>Request_URL</th>\n",
              "      <th>URL_of_anchor</th>\n",
              "      <th>links_in_tag</th>\n",
              "      <th>SFH</th>\n",
              "      <th>to_email</th>\n",
              "      <th>iFrame</th>\n",
              "      <th>Deep_Learning</th>\n",
              "      <th>label</th>\n",
              "    </tr>\n",
              "  </thead>\n",
              "  <tbody>\n",
              "    <tr>\n",
              "      <th>0</th>\n",
              "      <td>0</td>\n",
              "      <td>0</td>\n",
              "      <td>0</td>\n",
              "      <td>0</td>\n",
              "      <td>0</td>\n",
              "      <td>0</td>\n",
              "      <td>0</td>\n",
              "      <td>0</td>\n",
              "      <td>1</td>\n",
              "      <td>1</td>\n",
              "      <td>1</td>\n",
              "      <td>1</td>\n",
              "      <td>1</td>\n",
              "      <td>0</td>\n",
              "      <td>0</td>\n",
              "      <td>0</td>\n",
              "      <td>0</td>\n",
              "    </tr>\n",
              "    <tr>\n",
              "      <th>1</th>\n",
              "      <td>0</td>\n",
              "      <td>0</td>\n",
              "      <td>0</td>\n",
              "      <td>0</td>\n",
              "      <td>0</td>\n",
              "      <td>0</td>\n",
              "      <td>0</td>\n",
              "      <td>0</td>\n",
              "      <td>1</td>\n",
              "      <td>1</td>\n",
              "      <td>1</td>\n",
              "      <td>1</td>\n",
              "      <td>1</td>\n",
              "      <td>0</td>\n",
              "      <td>0</td>\n",
              "      <td>1</td>\n",
              "      <td>1</td>\n",
              "    </tr>\n",
              "    <tr>\n",
              "      <th>2</th>\n",
              "      <td>0</td>\n",
              "      <td>0</td>\n",
              "      <td>0</td>\n",
              "      <td>0</td>\n",
              "      <td>0</td>\n",
              "      <td>1</td>\n",
              "      <td>0</td>\n",
              "      <td>1</td>\n",
              "      <td>1</td>\n",
              "      <td>1</td>\n",
              "      <td>1</td>\n",
              "      <td>1</td>\n",
              "      <td>1</td>\n",
              "      <td>1</td>\n",
              "      <td>1</td>\n",
              "      <td>1</td>\n",
              "      <td>1</td>\n",
              "    </tr>\n",
              "    <tr>\n",
              "      <th>3</th>\n",
              "      <td>0</td>\n",
              "      <td>0</td>\n",
              "      <td>0</td>\n",
              "      <td>0</td>\n",
              "      <td>0</td>\n",
              "      <td>0</td>\n",
              "      <td>0</td>\n",
              "      <td>0</td>\n",
              "      <td>1</td>\n",
              "      <td>1</td>\n",
              "      <td>1</td>\n",
              "      <td>1</td>\n",
              "      <td>1</td>\n",
              "      <td>1</td>\n",
              "      <td>1</td>\n",
              "      <td>0</td>\n",
              "      <td>0</td>\n",
              "    </tr>\n",
              "    <tr>\n",
              "      <th>4</th>\n",
              "      <td>0</td>\n",
              "      <td>0</td>\n",
              "      <td>0</td>\n",
              "      <td>0</td>\n",
              "      <td>0</td>\n",
              "      <td>0</td>\n",
              "      <td>0</td>\n",
              "      <td>0</td>\n",
              "      <td>1</td>\n",
              "      <td>1</td>\n",
              "      <td>1</td>\n",
              "      <td>1</td>\n",
              "      <td>1</td>\n",
              "      <td>0</td>\n",
              "      <td>0</td>\n",
              "      <td>0</td>\n",
              "      <td>0</td>\n",
              "    </tr>\n",
              "  </tbody>\n",
              "</table>\n",
              "</div>\n",
              "      <button class=\"colab-df-convert\" onclick=\"convertToInteractive('df-d5b8a7b4-2b71-416f-9901-c873364b9499')\"\n",
              "              title=\"Convert this dataframe to an interactive table.\"\n",
              "              style=\"display:none;\">\n",
              "        \n",
              "  <svg xmlns=\"http://www.w3.org/2000/svg\" height=\"24px\"viewBox=\"0 0 24 24\"\n",
              "       width=\"24px\">\n",
              "    <path d=\"M0 0h24v24H0V0z\" fill=\"none\"/>\n",
              "    <path d=\"M18.56 5.44l.94 2.06.94-2.06 2.06-.94-2.06-.94-.94-2.06-.94 2.06-2.06.94zm-11 1L8.5 8.5l.94-2.06 2.06-.94-2.06-.94L8.5 2.5l-.94 2.06-2.06.94zm10 10l.94 2.06.94-2.06 2.06-.94-2.06-.94-.94-2.06-.94 2.06-2.06.94z\"/><path d=\"M17.41 7.96l-1.37-1.37c-.4-.4-.92-.59-1.43-.59-.52 0-1.04.2-1.43.59L10.3 9.45l-7.72 7.72c-.78.78-.78 2.05 0 2.83L4 21.41c.39.39.9.59 1.41.59.51 0 1.02-.2 1.41-.59l7.78-7.78 2.81-2.81c.8-.78.8-2.07 0-2.86zM5.41 20L4 18.59l7.72-7.72 1.47 1.35L5.41 20z\"/>\n",
              "  </svg>\n",
              "      </button>\n",
              "      \n",
              "  <style>\n",
              "    .colab-df-container {\n",
              "      display:flex;\n",
              "      flex-wrap:wrap;\n",
              "      gap: 12px;\n",
              "    }\n",
              "\n",
              "    .colab-df-convert {\n",
              "      background-color: #E8F0FE;\n",
              "      border: none;\n",
              "      border-radius: 50%;\n",
              "      cursor: pointer;\n",
              "      display: none;\n",
              "      fill: #1967D2;\n",
              "      height: 32px;\n",
              "      padding: 0 0 0 0;\n",
              "      width: 32px;\n",
              "    }\n",
              "\n",
              "    .colab-df-convert:hover {\n",
              "      background-color: #E2EBFA;\n",
              "      box-shadow: 0px 1px 2px rgba(60, 64, 67, 0.3), 0px 1px 3px 1px rgba(60, 64, 67, 0.15);\n",
              "      fill: #174EA6;\n",
              "    }\n",
              "\n",
              "    [theme=dark] .colab-df-convert {\n",
              "      background-color: #3B4455;\n",
              "      fill: #D2E3FC;\n",
              "    }\n",
              "\n",
              "    [theme=dark] .colab-df-convert:hover {\n",
              "      background-color: #434B5C;\n",
              "      box-shadow: 0px 1px 3px 1px rgba(0, 0, 0, 0.15);\n",
              "      filter: drop-shadow(0px 1px 2px rgba(0, 0, 0, 0.3));\n",
              "      fill: #FFFFFF;\n",
              "    }\n",
              "  </style>\n",
              "\n",
              "      <script>\n",
              "        const buttonEl =\n",
              "          document.querySelector('#df-d5b8a7b4-2b71-416f-9901-c873364b9499 button.colab-df-convert');\n",
              "        buttonEl.style.display =\n",
              "          google.colab.kernel.accessAllowed ? 'block' : 'none';\n",
              "\n",
              "        async function convertToInteractive(key) {\n",
              "          const element = document.querySelector('#df-d5b8a7b4-2b71-416f-9901-c873364b9499');\n",
              "          const dataTable =\n",
              "            await google.colab.kernel.invokeFunction('convertToInteractive',\n",
              "                                                     [key], {});\n",
              "          if (!dataTable) return;\n",
              "\n",
              "          const docLinkHtml = 'Like what you see? Visit the ' +\n",
              "            '<a target=\"_blank\" href=https://colab.research.google.com/notebooks/data_table.ipynb>data table notebook</a>'\n",
              "            + ' to learn more about interactive tables.';\n",
              "          element.innerHTML = '';\n",
              "          dataTable['output_type'] = 'display_data';\n",
              "          await google.colab.output.renderOutput(dataTable, element);\n",
              "          const docLink = document.createElement('div');\n",
              "          docLink.innerHTML = docLinkHtml;\n",
              "          element.appendChild(docLink);\n",
              "        }\n",
              "      </script>\n",
              "    </div>\n",
              "  </div>\n",
              "  "
            ],
            "text/plain": [
              "   Have_IP  Have_At  URL_Length  ...  iFrame  Deep_Learning  label\n",
              "0        0        0           0  ...       0              0      0\n",
              "1        0        0           0  ...       0              1      1\n",
              "2        0        0           0  ...       1              1      1\n",
              "3        0        0           0  ...       1              0      0\n",
              "4        0        0           0  ...       0              0      0\n",
              "\n",
              "[5 rows x 17 columns]"
            ]
          },
          "metadata": {},
          "execution_count": 40
        }
      ]
    },
    {
      "cell_type": "code",
      "execution_count": 41,
      "id": "48d1b093",
      "metadata": {
        "colab": {
          "base_uri": "https://localhost:8080/"
        },
        "id": "48d1b093",
        "outputId": "ae00a5ea-a984-4f90-aa31-c40cde8b1906"
      },
      "outputs": [
        {
          "output_type": "execute_result",
          "data": {
            "text/plain": [
              "(11430, 17)"
            ]
          },
          "metadata": {},
          "execution_count": 41
        }
      ],
      "source": [
        "extracted.shape"
      ]
    },
    {
      "cell_type": "code",
      "execution_count": 42,
      "id": "e68e4147",
      "metadata": {
        "colab": {
          "base_uri": "https://localhost:8080/",
          "height": 17
        },
        "id": "e68e4147",
        "outputId": "0728207a-6453-46e6-9523-473e7ae5607b"
      },
      "outputs": [
        {
          "output_type": "display_data",
          "data": {
            "application/javascript": [
              "\n",
              "    async function download(id, filename, size) {\n",
              "      if (!google.colab.kernel.accessAllowed) {\n",
              "        return;\n",
              "      }\n",
              "      const div = document.createElement('div');\n",
              "      const label = document.createElement('label');\n",
              "      label.textContent = `Downloading \"${filename}\": `;\n",
              "      div.appendChild(label);\n",
              "      const progress = document.createElement('progress');\n",
              "      progress.max = size;\n",
              "      div.appendChild(progress);\n",
              "      document.body.appendChild(div);\n",
              "\n",
              "      const buffers = [];\n",
              "      let downloaded = 0;\n",
              "\n",
              "      const channel = await google.colab.kernel.comms.open(id);\n",
              "      // Send a message to notify the kernel that we're ready.\n",
              "      channel.send({})\n",
              "\n",
              "      for await (const message of channel.messages) {\n",
              "        // Send a message to notify the kernel that we're ready.\n",
              "        channel.send({})\n",
              "        if (message.buffers) {\n",
              "          for (const buffer of message.buffers) {\n",
              "            buffers.push(buffer);\n",
              "            downloaded += buffer.byteLength;\n",
              "            progress.value = downloaded;\n",
              "          }\n",
              "        }\n",
              "      }\n",
              "      const blob = new Blob(buffers, {type: 'application/binary'});\n",
              "      const a = document.createElement('a');\n",
              "      a.href = window.URL.createObjectURL(blob);\n",
              "      a.download = filename;\n",
              "      div.appendChild(a);\n",
              "      a.click();\n",
              "      div.remove();\n",
              "    }\n",
              "  "
            ],
            "text/plain": [
              "<IPython.core.display.Javascript object>"
            ]
          },
          "metadata": {}
        },
        {
          "output_type": "display_data",
          "data": {
            "application/javascript": [
              "download(\"download_b836d36d-1ac3-48ca-81e8-00903b0363dc\", \"RFphish.csv\", 446260)"
            ],
            "text/plain": [
              "<IPython.core.display.Javascript object>"
            ]
          },
          "metadata": {}
        }
      ],
      "source": [
        "from google.colab import files\n",
        "extracted.to_csv('RFphish.csv') \n",
        "files.download('RFphish.csv')"
      ]
    },
    {
      "cell_type": "code",
      "source": [
        ""
      ],
      "metadata": {
        "id": "yY-8qjbYnDrW"
      },
      "id": "yY-8qjbYnDrW",
      "execution_count": null,
      "outputs": []
    }
  ],
  "metadata": {
    "kernelspec": {
      "display_name": "Python 3",
      "language": "python",
      "name": "python3"
    },
    "language_info": {
      "codemirror_mode": {
        "name": "ipython",
        "version": 3
      },
      "file_extension": ".py",
      "mimetype": "text/x-python",
      "name": "python",
      "nbconvert_exporter": "python",
      "pygments_lexer": "ipython3",
      "version": "3.7.10"
    },
    "colab": {
      "name": "preprocessing.ipynb",
      "provenance": []
    }
  },
  "nbformat": 4,
  "nbformat_minor": 5
}